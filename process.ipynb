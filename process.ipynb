{
 "cells": [
  {
   "cell_type": "code",
   "execution_count": 16,
   "metadata": {},
   "outputs": [
    {
     "name": "stdout",
     "output_type": "stream",
     "text": [
      "CPU times: total: 0 ns\n",
      "Wall time: 0 ns\n"
     ]
    }
   ],
   "source": [
    "%%time\n",
    "import pandas as pd\n",
    "import pyarrow as pa\n",
    "import polars as pl\n",
    "from pyarrow import parquet\n",
    "from pyarrow import csv"
   ]
  },
  {
   "cell_type": "code",
   "execution_count": 94,
   "metadata": {},
   "outputs": [],
   "source": [
    "FILE_NAME=\"A\"\n",
    "FILE_PARQUET=\"stock_market_data/forbes2000/csv/\"+ FILE_NAME + \".parquet\"\n",
    "FILE_CSV = \"stock_market_data/forbes2000/csv/\"+ FILE_NAME +\".csv\"\n",
    "OUTPUT_FILE=\"consolidated\""
   ]
  },
  {
   "cell_type": "code",
   "execution_count": 25,
   "metadata": {},
   "outputs": [
    {
     "data": {
      "text/plain": [
       "4193"
      ]
     },
     "metadata": {},
     "output_type": "display_data"
    },
    {
     "data": {
      "text/plain": [
       "4193"
      ]
     },
     "metadata": {},
     "output_type": "display_data"
    },
    {
     "name": "stdout",
     "output_type": "stream",
     "text": [
      "CPU times: total: 0 ns\n",
      "Wall time: 52.3 ms\n"
     ]
    }
   ],
   "source": [
    "%%time\n",
    "import glob\n",
    "ALL_FILES_PARQUET = []\n",
    "for file in glob.glob(\"stock_market_data/*/csv/*.parquet\", recursive = True):\n",
    "    ALL_FILES_PARQUET.append(file)\n",
    "display(len(ALL_FILES_PARQUET))\n",
    "\n",
    "ALL_FILES_CSV = []\n",
    "for file in glob.glob(\"stock_market_data/*/csv/*.csv\", recursive = True):\n",
    "    ALL_FILES_CSV.append(file)\n",
    "display(len(ALL_FILES_CSV))"
   ]
  },
  {
   "cell_type": "markdown",
   "metadata": {},
   "source": [
    "# Read Parquet and simply calculation"
   ]
  },
  {
   "cell_type": "code",
   "execution_count": 95,
   "metadata": {},
   "outputs": [],
   "source": [
    "FILE_COUNT=500"
   ]
  },
  {
   "cell_type": "markdown",
   "metadata": {},
   "source": [
    "## Polars"
   ]
  },
  {
   "cell_type": "code",
   "execution_count": 89,
   "metadata": {},
   "outputs": [
    {
     "name": "stdout",
     "output_type": "stream",
     "text": [
      "CPU times: total: 3.22 s\n",
      "Wall time: 12.8 s\n"
     ]
    }
   ],
   "source": [
    "%%time\n",
    "df1_polars = pl.read_parquet(ALL_FILES_PARQUET[0])\n",
    "for file in ALL_FILES_PARQUET[1:FILE_COUNT]:\n",
    "    df1 = pl.read_parquet(FILE_PARQUET)\n",
    "    df1_polars=pl.concat([df1,df1_polars])\n",
    "    #print(len(df1_polars))"
   ]
  },
  {
   "cell_type": "code",
   "execution_count": 90,
   "metadata": {
    "scrolled": true
   },
   "outputs": [
    {
     "name": "stdout",
     "output_type": "stream",
     "text": [
      "CPU times: total: 0 ns\n",
      "Wall time: 17.1 ms\n"
     ]
    },
    {
     "data": {
      "text/html": [
       "<div><style>\n",
       ".dataframe > thead > tr > th,\n",
       ".dataframe > tbody > tr > td {\n",
       "  text-align: right;\n",
       "  white-space: pre-wrap;\n",
       "}\n",
       "</style>\n",
       "<small>shape: (2_902_000, 8)</small><table border=\"1\" class=\"dataframe\"><thead><tr><th>Date</th><th>Low</th><th>Open</th><th>Volume</th><th>High</th><th>Close</th><th>Adjusted Close</th><th>Range</th></tr><tr><td>str</td><td>f64</td><td>f64</td><td>i64</td><td>f64</td><td>f64</td><td>f64</td><td>f64</td></tr></thead><tbody><tr><td>&quot;18-11-1999&quot;</td><td>28.612303</td><td>32.546494</td><td>62546380</td><td>35.765381</td><td>31.473534</td><td>27.066582</td><td>64.377684</td></tr><tr><td>&quot;19-11-1999&quot;</td><td>28.478184</td><td>30.713518</td><td>15234146</td><td>30.758226</td><td>28.880545</td><td>24.836662</td><td>59.23641</td></tr><tr><td>&quot;22-11-1999&quot;</td><td>28.657009</td><td>29.551144</td><td>6577870</td><td>31.473534</td><td>31.473534</td><td>27.066582</td><td>60.130543</td></tr><tr><td>&quot;23-11-1999&quot;</td><td>28.612303</td><td>30.400572</td><td>5975611</td><td>31.205294</td><td>28.612303</td><td>24.60598</td><td>59.817596</td></tr><tr><td>&quot;24-11-1999&quot;</td><td>28.612303</td><td>28.701717</td><td>4843231</td><td>29.998213</td><td>29.372318</td><td>25.259573</td><td>58.610516</td></tr><tr><td>&quot;26-11-1999&quot;</td><td>29.148785</td><td>29.238197</td><td>1729466</td><td>29.685265</td><td>29.461731</td><td>25.336472</td><td>58.834049</td></tr><tr><td>&quot;29-11-1999&quot;</td><td>29.014664</td><td>29.327612</td><td>4074751</td><td>30.355865</td><td>30.132332</td><td>25.913176</td><td>59.370529</td></tr><tr><td>&quot;30-11-1999&quot;</td><td>29.282904</td><td>30.042917</td><td>4310034</td><td>30.713518</td><td>30.177038</td><td>25.95162</td><td>59.996422</td></tr><tr><td>&quot;01-12-1999&quot;</td><td>29.953505</td><td>30.177038</td><td>2957329</td><td>31.071173</td><td>30.713518</td><td>26.412981</td><td>61.024677</td></tr><tr><td>&quot;02-12-1999&quot;</td><td>30.892345</td><td>31.294706</td><td>3069868</td><td>32.188843</td><td>31.562946</td><td>27.143471</td><td>63.081188</td></tr><tr><td>&quot;03-12-1999&quot;</td><td>31.697067</td><td>32.144135</td><td>3041629</td><td>32.680614</td><td>31.831186</td><td>27.374151</td><td>64.377682</td></tr><tr><td>&quot;06-12-1999&quot;</td><td>32.32296</td><td>32.367668</td><td>2250780</td><td>33.217094</td><td>32.725323</td><td>28.143091</td><td>65.540054</td></tr><tr><td>&hellip;</td><td>&hellip;</td><td>&hellip;</td><td>&hellip;</td><td>&hellip;</td><td>&hellip;</td><td>&hellip;</td><td>&hellip;</td></tr><tr><td>&quot;25-11-2022&quot;</td><td>154.710007</td><td>155.089996</td><td>642700</td><td>156.960007</td><td>156.960007</td><td>156.960007</td><td>311.670013</td></tr><tr><td>&quot;28-11-2022&quot;</td><td>151.729996</td><td>155.869995</td><td>1386300</td><td>156.850006</td><td>152.300003</td><td>152.300003</td><td>308.580002</td></tr><tr><td>&quot;29-11-2022&quot;</td><td>150.490005</td><td>151.880005</td><td>954600</td><td>152.899994</td><td>150.940002</td><td>150.940002</td><td>303.389999</td></tr><tr><td>&quot;30-11-2022&quot;</td><td>149.100006</td><td>151.380005</td><td>2867700</td><td>154.979996</td><td>154.979996</td><td>154.979996</td><td>304.080002</td></tr><tr><td>&quot;01-12-2022&quot;</td><td>154.419998</td><td>156.729996</td><td>1372400</td><td>156.990005</td><td>156.119995</td><td>156.119995</td><td>311.410004</td></tr><tr><td>&quot;02-12-2022&quot;</td><td>153.589996</td><td>153.970001</td><td>1183200</td><td>156.729996</td><td>155.669998</td><td>155.669998</td><td>310.319992</td></tr><tr><td>&quot;05-12-2022&quot;</td><td>151.25</td><td>153.839996</td><td>1124700</td><td>153.889999</td><td>152.699997</td><td>152.699997</td><td>305.139999</td></tr><tr><td>&quot;06-12-2022&quot;</td><td>149.910004</td><td>152.149994</td><td>1172300</td><td>153.0</td><td>151.350006</td><td>151.350006</td><td>302.910004</td></tr><tr><td>&quot;07-12-2022&quot;</td><td>151.130005</td><td>151.229996</td><td>1011100</td><td>154.350006</td><td>153.729996</td><td>153.729996</td><td>305.480011</td></tr><tr><td>&quot;08-12-2022&quot;</td><td>153.479996</td><td>154.419998</td><td>1289900</td><td>156.990005</td><td>156.279999</td><td>156.279999</td><td>310.470001</td></tr><tr><td>&quot;09-12-2022&quot;</td><td>152.679993</td><td>155.669998</td><td>1020200</td><td>156.699997</td><td>152.949997</td><td>152.949997</td><td>309.37999</td></tr><tr><td>&quot;12-12-2022&quot;</td><td>153.380005</td><td>154.009995</td><td>194590</td><td>155.410004</td><td>155.240005</td><td>155.240005</td><td>308.790009</td></tr></tbody></table></div>"
      ],
      "text/plain": [
       "shape: (2_902_000, 8)\n",
       "┌────────────┬────────────┬────────────┬──────────┬────────────┬────────────┬────────────────┬────────────┐\n",
       "│ Date       ┆ Low        ┆ Open       ┆ Volume   ┆ High       ┆ Close      ┆ Adjusted Close ┆ Range      │\n",
       "│ ---        ┆ ---        ┆ ---        ┆ ---      ┆ ---        ┆ ---        ┆ ---            ┆ ---        │\n",
       "│ str        ┆ f64        ┆ f64        ┆ i64      ┆ f64        ┆ f64        ┆ f64            ┆ f64        │\n",
       "╞════════════╪════════════╪════════════╪══════════╪════════════╪════════════╪════════════════╪════════════╡\n",
       "│ 18-11-1999 ┆ 28.612303  ┆ 32.546494  ┆ 62546380 ┆ 35.765381  ┆ 31.473534  ┆ 27.066582      ┆ 64.377684  │\n",
       "│ 19-11-1999 ┆ 28.478184  ┆ 30.713518  ┆ 15234146 ┆ 30.758226  ┆ 28.880545  ┆ 24.836662      ┆ 59.23641   │\n",
       "│ 22-11-1999 ┆ 28.657009  ┆ 29.551144  ┆ 6577870  ┆ 31.473534  ┆ 31.473534  ┆ 27.066582      ┆ 60.130543  │\n",
       "│ 23-11-1999 ┆ 28.612303  ┆ 30.400572  ┆ 5975611  ┆ 31.205294  ┆ 28.612303  ┆ 24.60598       ┆ 59.817596  │\n",
       "│ …          ┆ …          ┆ …          ┆ …        ┆ …          ┆ …          ┆ …              ┆ …          │\n",
       "│ 07-12-2022 ┆ 151.130005 ┆ 151.229996 ┆ 1011100  ┆ 154.350006 ┆ 153.729996 ┆ 153.729996     ┆ 305.480011 │\n",
       "│ 08-12-2022 ┆ 153.479996 ┆ 154.419998 ┆ 1289900  ┆ 156.990005 ┆ 156.279999 ┆ 156.279999     ┆ 310.470001 │\n",
       "│ 09-12-2022 ┆ 152.679993 ┆ 155.669998 ┆ 1020200  ┆ 156.699997 ┆ 152.949997 ┆ 152.949997     ┆ 309.37999  │\n",
       "│ 12-12-2022 ┆ 153.380005 ┆ 154.009995 ┆ 194590   ┆ 155.410004 ┆ 155.240005 ┆ 155.240005     ┆ 308.790009 │\n",
       "└────────────┴────────────┴────────────┴──────────┴────────────┴────────────┴────────────────┴────────────┘"
      ]
     },
     "execution_count": 90,
     "metadata": {},
     "output_type": "execute_result"
    }
   ],
   "source": [
    "%%time\n",
    "df1_polars.with_columns(Range = pl.col(\"High\") + pl.col(\"Low\"))"
   ]
  },
  {
   "cell_type": "code",
   "execution_count": 69,
   "metadata": {},
   "outputs": [
    {
     "data": {
      "text/plain": [
       "[Utf8, Float64, Float64, Int64, Float64, Float64, Float64]"
      ]
     },
     "execution_count": 69,
     "metadata": {},
     "output_type": "execute_result"
    }
   ],
   "source": [
    "df1_polars.dtypes"
   ]
  },
  {
   "cell_type": "code",
   "execution_count": 96,
   "metadata": {},
   "outputs": [
    {
     "name": "stdout",
     "output_type": "stream",
     "text": [
      "<class 'polars.dataframe.frame.DataFrame'>\n"
     ]
    }
   ],
   "source": [
    "# <class 'polars.dataframe.frame.DataFrame'>\n",
    "print(type(df1_polars))\n",
    "# 'polars.dataframe.frame.DataFrame' is backed by arrow im-memory representation rather than numpy"
   ]
  },
  {
   "cell_type": "markdown",
   "metadata": {},
   "source": [
    "## Pyarrow"
   ]
  },
  {
   "cell_type": "code",
   "execution_count": 100,
   "metadata": {},
   "outputs": [
    {
     "ename": "ArrowInvalid",
     "evalue": "Schema at index 1 was different: \nDate: string\nLow: double\nOpen: double\nVolume: double\nHigh: double\nClose: double\nAdjusted Close: double\nvs\nDate: string\nLow: double\nOpen: double\nVolume: int64\nHigh: double\nClose: double\nAdjusted Close: double",
     "output_type": "error",
     "traceback": [
      "\u001b[1;31m---------------------------------------------------------------------------\u001b[0m",
      "\u001b[1;31mArrowInvalid\u001b[0m                              Traceback (most recent call last)",
      "File \u001b[1;32m<timed exec>:5\u001b[0m\n",
      "File \u001b[1;32m~\\OneDrive\\桌面\\stock market data\\.venv311\\Lib\\site-packages\\pyarrow\\table.pxi:5071\u001b[0m, in \u001b[0;36mpyarrow.lib.concat_tables\u001b[1;34m()\u001b[0m\n",
      "File \u001b[1;32m~\\OneDrive\\桌面\\stock market data\\.venv311\\Lib\\site-packages\\pyarrow\\error.pxi:144\u001b[0m, in \u001b[0;36mpyarrow.lib.pyarrow_internal_check_status\u001b[1;34m()\u001b[0m\n",
      "File \u001b[1;32m~\\OneDrive\\桌面\\stock market data\\.venv311\\Lib\\site-packages\\pyarrow\\error.pxi:100\u001b[0m, in \u001b[0;36mpyarrow.lib.check_status\u001b[1;34m()\u001b[0m\n",
      "\u001b[1;31mArrowInvalid\u001b[0m: Schema at index 1 was different: \nDate: string\nLow: double\nOpen: double\nVolume: double\nHigh: double\nClose: double\nAdjusted Close: double\nvs\nDate: string\nLow: double\nOpen: double\nVolume: int64\nHigh: double\nClose: double\nAdjusted Close: double"
     ]
    }
   ],
   "source": [
    "%%time\n",
    "pydict=dict()\n",
    "df1_pyarrow = pa.parquet.read_table(ALL_FILES_PARQUET[0])\n",
    "for file in ALL_FILES_PARQUET[1:FILE_COUNT]:\n",
    "    df1= pa.parquet.read_table(file)\n",
    "    df1_pyarrow = pa.concat_tables([df1,df1_pyarrow])\n",
    "    #print(len(df1_pyarrow))"
   ]
  },
  {
   "cell_type": "code",
   "execution_count": 101,
   "metadata": {},
   "outputs": [
    {
     "ename": "AttributeError",
     "evalue": "'pyarrow.lib.Table' object has no attribute 'info'",
     "output_type": "error",
     "traceback": [
      "\u001b[1;31m---------------------------------------------------------------------------\u001b[0m",
      "\u001b[1;31mAttributeError\u001b[0m                            Traceback (most recent call last)",
      "Cell \u001b[1;32mIn[101], line 1\u001b[0m\n\u001b[1;32m----> 1\u001b[0m \u001b[43mdf1_pyarrow\u001b[49m\u001b[38;5;241;43m.\u001b[39;49m\u001b[43minfo\u001b[49m()\n",
      "\u001b[1;31mAttributeError\u001b[0m: 'pyarrow.lib.Table' object has no attribute 'info'"
     ]
    }
   ],
   "source": [
    "df1_pyarrow.info()"
   ]
  },
  {
   "cell_type": "code",
   "execution_count": 7,
   "metadata": {},
   "outputs": [
    {
     "name": "stdout",
     "output_type": "stream",
     "text": [
      "<class 'pyarrow.lib.Table'>\n"
     ]
    }
   ],
   "source": [
    "# <class 'pyarrow.lib.Table'>\n",
    "print(type(df1))"
   ]
  },
  {
   "cell_type": "markdown",
   "metadata": {},
   "source": [
    "## Pandas"
   ]
  },
  {
   "cell_type": "code",
   "execution_count": 92,
   "metadata": {},
   "outputs": [
    {
     "name": "stdout",
     "output_type": "stream",
     "text": [
      "CPU times: total: 14.4 s\n",
      "Wall time: 38.2 s\n"
     ]
    }
   ],
   "source": [
    "%%time\n",
    "df1_pandas = pd.DataFrame()\n",
    "for file in ALL_FILES_PARQUET[:FILE_COUNT]:\n",
    "    df1=pd.read_parquet(file)\n",
    "    df1_pandas=pd.concat([df1,df1_pandas])"
   ]
  },
  {
   "cell_type": "code",
   "execution_count": 93,
   "metadata": {},
   "outputs": [
    {
     "name": "stdout",
     "output_type": "stream",
     "text": [
      "CPU times: total: 0 ns\n",
      "Wall time: 27.8 ms\n"
     ]
    }
   ],
   "source": [
    "%%time\n",
    "df2=df1_pandas[\"range\"] = df1_pandas.High - df1_pandas.Low"
   ]
  },
  {
   "cell_type": "code",
   "execution_count": 76,
   "metadata": {},
   "outputs": [
    {
     "name": "stdout",
     "output_type": "stream",
     "text": [
      "<class 'pandas.core.series.Series'>\n",
      "Index: 54379 entries, 0 to 5803\n",
      "Series name: None\n",
      "Non-Null Count  Dtype  \n",
      "--------------  -----  \n",
      "54379 non-null  float64\n",
      "dtypes: float64(1)\n",
      "memory usage: 849.7 KB\n"
     ]
    }
   ],
   "source": [
    "df2.info()"
   ]
  },
  {
   "cell_type": "code",
   "execution_count": null,
   "metadata": {},
   "outputs": [],
   "source": [
    "df1_pandas.info()"
   ]
  },
  {
   "cell_type": "code",
   "execution_count": 103,
   "metadata": {},
   "outputs": [
    {
     "name": "stdout",
     "output_type": "stream",
     "text": [
      "<class 'pandas.core.frame.DataFrame'>\n"
     ]
    }
   ],
   "source": [
    "#<class 'pandas.core.frame.DataFrame'>\n",
    "print(type(df1_pandas))"
   ]
  },
  {
   "cell_type": "markdown",
   "metadata": {
    "jp-MarkdownHeadingCollapsed": true
   },
   "source": [
    "# Read CSV"
   ]
  },
  {
   "cell_type": "markdown",
   "metadata": {},
   "source": [
    "## Polars"
   ]
  },
  {
   "cell_type": "code",
   "execution_count": 10,
   "metadata": {
    "scrolled": true
   },
   "outputs": [
    {
     "name": "stdout",
     "output_type": "stream",
     "text": [
      "CPU times: total: 281 ms\n",
      "Wall time: 1.29 s\n"
     ]
    }
   ],
   "source": [
    "%%time\n",
    "for file in ALL_FILES_CSV[:FILE_COUNT]:\n",
    "    df1 = pl.read_csv(file)"
   ]
  },
  {
   "cell_type": "markdown",
   "metadata": {},
   "source": [
    "## Pyarrow"
   ]
  },
  {
   "cell_type": "code",
   "execution_count": 11,
   "metadata": {},
   "outputs": [
    {
     "name": "stdout",
     "output_type": "stream",
     "text": [
      "CPU times: total: 406 ms\n",
      "Wall time: 2.53 s\n"
     ]
    }
   ],
   "source": [
    "%%time\n",
    "for file in ALL_FILES_CSV[:FILE_COUNT]:\n",
    "    df1=pa.csv.read_csv(file)"
   ]
  },
  {
   "cell_type": "markdown",
   "metadata": {},
   "source": [
    "## Pandas"
   ]
  },
  {
   "cell_type": "code",
   "execution_count": 12,
   "metadata": {},
   "outputs": [
    {
     "name": "stdout",
     "output_type": "stream",
     "text": [
      "CPU times: total: 3.62 s\n",
      "Wall time: 8.48 s\n"
     ]
    }
   ],
   "source": [
    "%%time\n",
    "for file in ALL_FILES_CSV[:FILE_COUNT]:\n",
    "    df1=pd.read_csv(file)"
   ]
  },
  {
   "cell_type": "code",
   "execution_count": null,
   "metadata": {},
   "outputs": [],
   "source": []
  },
  {
   "cell_type": "markdown",
   "metadata": {},
   "source": [
    "# Experiments"
   ]
  },
  {
   "cell_type": "code",
   "execution_count": 14,
   "metadata": {},
   "outputs": [
    {
     "name": "stdout",
     "output_type": "stream",
     "text": [
      "CPU times: total: 0 ns\n",
      "Wall time: 6.96 ms\n"
     ]
    },
    {
     "data": {
      "text/html": [
       "<div><style>\n",
       ".dataframe > thead > tr > th,\n",
       ".dataframe > tbody > tr > td {\n",
       "  text-align: right;\n",
       "  white-space: pre-wrap;\n",
       "}\n",
       "</style>\n",
       "<small>shape: (11_608, 7)</small><table border=\"1\" class=\"dataframe\"><thead><tr><th>Date</th><th>Low</th><th>Open</th><th>Volume</th><th>High</th><th>Close</th><th>Adjusted Close</th></tr><tr><td>str</td><td>f64</td><td>f64</td><td>i64</td><td>f64</td><td>f64</td><td>f64</td></tr></thead><tbody><tr><td>&quot;18-11-1999&quot;</td><td>28.612303</td><td>32.546494</td><td>62546380</td><td>35.765381</td><td>31.473534</td><td>27.066582</td></tr><tr><td>&quot;19-11-1999&quot;</td><td>28.478184</td><td>30.713518</td><td>15234146</td><td>30.758226</td><td>28.880545</td><td>24.836662</td></tr><tr><td>&quot;22-11-1999&quot;</td><td>28.657009</td><td>29.551144</td><td>6577870</td><td>31.473534</td><td>31.473534</td><td>27.066582</td></tr><tr><td>&quot;23-11-1999&quot;</td><td>28.612303</td><td>30.400572</td><td>5975611</td><td>31.205294</td><td>28.612303</td><td>24.60598</td></tr><tr><td>&quot;24-11-1999&quot;</td><td>28.612303</td><td>28.701717</td><td>4843231</td><td>29.998213</td><td>29.372318</td><td>25.259573</td></tr><tr><td>&quot;26-11-1999&quot;</td><td>29.148785</td><td>29.238197</td><td>1729466</td><td>29.685265</td><td>29.461731</td><td>25.336472</td></tr><tr><td>&quot;29-11-1999&quot;</td><td>29.014664</td><td>29.327612</td><td>4074751</td><td>30.355865</td><td>30.132332</td><td>25.913176</td></tr><tr><td>&quot;30-11-1999&quot;</td><td>29.282904</td><td>30.042917</td><td>4310034</td><td>30.713518</td><td>30.177038</td><td>25.95162</td></tr><tr><td>&quot;01-12-1999&quot;</td><td>29.953505</td><td>30.177038</td><td>2957329</td><td>31.071173</td><td>30.713518</td><td>26.412981</td></tr><tr><td>&quot;02-12-1999&quot;</td><td>30.892345</td><td>31.294706</td><td>3069868</td><td>32.188843</td><td>31.562946</td><td>27.143471</td></tr><tr><td>&quot;03-12-1999&quot;</td><td>31.697067</td><td>32.144135</td><td>3041629</td><td>32.680614</td><td>31.831186</td><td>27.374151</td></tr><tr><td>&quot;06-12-1999&quot;</td><td>32.32296</td><td>32.367668</td><td>2250780</td><td>33.217094</td><td>32.725323</td><td>28.143091</td></tr><tr><td>&hellip;</td><td>&hellip;</td><td>&hellip;</td><td>&hellip;</td><td>&hellip;</td><td>&hellip;</td><td>&hellip;</td></tr><tr><td>&quot;25-11-2022&quot;</td><td>154.710007</td><td>155.089996</td><td>642700</td><td>156.960007</td><td>156.960007</td><td>156.960007</td></tr><tr><td>&quot;28-11-2022&quot;</td><td>151.729996</td><td>155.869995</td><td>1386300</td><td>156.850006</td><td>152.300003</td><td>152.300003</td></tr><tr><td>&quot;29-11-2022&quot;</td><td>150.490005</td><td>151.880005</td><td>954600</td><td>152.899994</td><td>150.940002</td><td>150.940002</td></tr><tr><td>&quot;30-11-2022&quot;</td><td>149.100006</td><td>151.380005</td><td>2867700</td><td>154.979996</td><td>154.979996</td><td>154.979996</td></tr><tr><td>&quot;01-12-2022&quot;</td><td>154.419998</td><td>156.729996</td><td>1372400</td><td>156.990005</td><td>156.119995</td><td>156.119995</td></tr><tr><td>&quot;02-12-2022&quot;</td><td>153.589996</td><td>153.970001</td><td>1183200</td><td>156.729996</td><td>155.669998</td><td>155.669998</td></tr><tr><td>&quot;05-12-2022&quot;</td><td>151.25</td><td>153.839996</td><td>1124700</td><td>153.889999</td><td>152.699997</td><td>152.699997</td></tr><tr><td>&quot;06-12-2022&quot;</td><td>149.910004</td><td>152.149994</td><td>1172300</td><td>153.0</td><td>151.350006</td><td>151.350006</td></tr><tr><td>&quot;07-12-2022&quot;</td><td>151.130005</td><td>151.229996</td><td>1011100</td><td>154.350006</td><td>153.729996</td><td>153.729996</td></tr><tr><td>&quot;08-12-2022&quot;</td><td>153.479996</td><td>154.419998</td><td>1289900</td><td>156.990005</td><td>156.279999</td><td>156.279999</td></tr><tr><td>&quot;09-12-2022&quot;</td><td>152.679993</td><td>155.669998</td><td>1020200</td><td>156.699997</td><td>152.949997</td><td>152.949997</td></tr><tr><td>&quot;12-12-2022&quot;</td><td>153.380005</td><td>154.009995</td><td>194590</td><td>155.410004</td><td>155.240005</td><td>155.240005</td></tr></tbody></table></div>"
      ],
      "text/plain": [
       "shape: (11_608, 7)\n",
       "┌────────────┬────────────┬────────────┬──────────┬────────────┬────────────┬────────────────┐\n",
       "│ Date       ┆ Low        ┆ Open       ┆ Volume   ┆ High       ┆ Close      ┆ Adjusted Close │\n",
       "│ ---        ┆ ---        ┆ ---        ┆ ---      ┆ ---        ┆ ---        ┆ ---            │\n",
       "│ str        ┆ f64        ┆ f64        ┆ i64      ┆ f64        ┆ f64        ┆ f64            │\n",
       "╞════════════╪════════════╪════════════╪══════════╪════════════╪════════════╪════════════════╡\n",
       "│ 18-11-1999 ┆ 28.612303  ┆ 32.546494  ┆ 62546380 ┆ 35.765381  ┆ 31.473534  ┆ 27.066582      │\n",
       "│ 19-11-1999 ┆ 28.478184  ┆ 30.713518  ┆ 15234146 ┆ 30.758226  ┆ 28.880545  ┆ 24.836662      │\n",
       "│ 22-11-1999 ┆ 28.657009  ┆ 29.551144  ┆ 6577870  ┆ 31.473534  ┆ 31.473534  ┆ 27.066582      │\n",
       "│ 23-11-1999 ┆ 28.612303  ┆ 30.400572  ┆ 5975611  ┆ 31.205294  ┆ 28.612303  ┆ 24.60598       │\n",
       "│ …          ┆ …          ┆ …          ┆ …        ┆ …          ┆ …          ┆ …              │\n",
       "│ 07-12-2022 ┆ 151.130005 ┆ 151.229996 ┆ 1011100  ┆ 154.350006 ┆ 153.729996 ┆ 153.729996     │\n",
       "│ 08-12-2022 ┆ 153.479996 ┆ 154.419998 ┆ 1289900  ┆ 156.990005 ┆ 156.279999 ┆ 156.279999     │\n",
       "│ 09-12-2022 ┆ 152.679993 ┆ 155.669998 ┆ 1020200  ┆ 156.699997 ┆ 152.949997 ┆ 152.949997     │\n",
       "│ 12-12-2022 ┆ 153.380005 ┆ 154.009995 ┆ 194590   ┆ 155.410004 ┆ 155.240005 ┆ 155.240005     │\n",
       "└────────────┴────────────┴────────────┴──────────┴────────────┴────────────┴────────────────┘"
      ]
     },
     "execution_count": 14,
     "metadata": {},
     "output_type": "execute_result"
    }
   ],
   "source": [
    "%%time\n",
    "import polars as pl \n",
    "pl.read_parquet(\"test_parquet/*.parquet\")"
   ]
  },
  {
   "cell_type": "code",
   "execution_count": 71,
   "metadata": {},
   "outputs": [
    {
     "name": "stdout",
     "output_type": "stream",
     "text": [
      "CPU times: total: 31.2 ms\n",
      "Wall time: 16.5 ms\n"
     ]
    }
   ],
   "source": [
    "%%time\n",
    "df_consolidate_polars = pl.read_parquet(\"10_file_folder/*.parquet\")"
   ]
  },
  {
   "cell_type": "code",
   "execution_count": null,
   "metadata": {},
   "outputs": [],
   "source": []
  },
  {
   "cell_type": "markdown",
   "metadata": {},
   "source": [
    "# Analyse data"
   ]
  },
  {
   "cell_type": "markdown",
   "metadata": {},
   "source": [
    "## Pandas"
   ]
  },
  {
   "cell_type": "code",
   "execution_count": null,
   "metadata": {},
   "outputs": [],
   "source": []
  },
  {
   "cell_type": "markdown",
   "metadata": {},
   "source": [
    "# Concat all parquet into one using Pandas (25 minutes)"
   ]
  },
  {
   "cell_type": "code",
   "execution_count": 31,
   "metadata": {},
   "outputs": [
    {
     "name": "stdout",
     "output_type": "stream",
     "text": [
      "CPU times: total: 8min 57s\n",
      "Wall time: 24min 58s\n"
     ]
    }
   ],
   "source": [
    "%%time\n",
    "df1_all = pd.DataFrame()\n",
    "for file in ALL_FILES_PARQUET[:FILE_COUNT]:\n",
    "    df1=pd.read_parquet(file)\n",
    "    df1_all=pd.concat([df1,df1_all])\n",
    "    # print(len(df1_all))\n",
    "\n",
    "df1_all.to_parquet(OUTPUT_FILE+\"_pandas.parquet\")"
   ]
  },
  {
   "cell_type": "code",
   "execution_count": 35,
   "metadata": {},
   "outputs": [],
   "source": [
    "df1_all.to_parquet(OUTPUT_FILE+\"_pandas.parquet\")"
   ]
  },
  {
   "cell_type": "code",
   "execution_count": 34,
   "metadata": {},
   "outputs": [
    {
     "name": "stdout",
     "output_type": "stream",
     "text": [
      "<class 'pandas.core.frame.DataFrame'>\n",
      "Index: 24604971 entries, 0 to 5803\n",
      "Data columns (total 7 columns):\n",
      " #   Column          Dtype  \n",
      "---  ------          -----  \n",
      " 0   Date            object \n",
      " 1   Low             float64\n",
      " 2   Open            float64\n",
      " 3   Volume          float64\n",
      " 4   High            float64\n",
      " 5   Close           float64\n",
      " 6   Adjusted Close  float64\n",
      "dtypes: float64(6), object(1)\n",
      "memory usage: 1.5+ GB\n"
     ]
    }
   ],
   "source": [
    "df1_all.info()"
   ]
  },
  {
   "cell_type": "markdown",
   "metadata": {},
   "source": [
    "## Copy files into a smaller folder"
   ]
  },
  {
   "cell_type": "code",
   "execution_count": 70,
   "metadata": {},
   "outputs": [],
   "source": [
    "import shutil\n",
    "FILE_COUNT=10\n",
    "DEST = r\"10_file_folder\"\n",
    "for file in ALL_FILES_PARQUET[:FILE_COUNT]:\n",
    "    shutil.copy(file, DEST)"
   ]
  }
 ],
 "metadata": {
  "kernelspec": {
   "display_name": "Python 3 (ipykernel)",
   "language": "python",
   "name": "python3"
  },
  "language_info": {
   "codemirror_mode": {
    "name": "ipython",
    "version": 3
   },
   "file_extension": ".py",
   "mimetype": "text/x-python",
   "name": "python",
   "nbconvert_exporter": "python",
   "pygments_lexer": "ipython3",
   "version": "3.11.6"
  }
 },
 "nbformat": 4,
 "nbformat_minor": 4
}
